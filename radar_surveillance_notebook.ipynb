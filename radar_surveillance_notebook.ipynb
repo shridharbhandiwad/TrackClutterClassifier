## Summary

This notebook successfully implements a comprehensive radar surveillance classification system with:

### Key Features
- ✅ Realistic radar data generation with 100,000 records
- ✅ Random Forest classifier for traditional ML approach
- ✅ LSTM-RNN model for time-series pattern recognition
- ✅ Interactive prediction interface with dual model comparison
- ✅ Comprehensive evaluation metrics and visualization

### Usage
1. **Data Generation**: Creates synthetic radar data with realistic ship tracks and sea clutter
2. **Model Training**: Trains both Random Forest and LSTM models
3. **Evaluation**: Compares performance using accuracy, precision, recall, F1-score, and ROC-AUC
4. **Interactive Prediction**: Allows real-time classification of user-input radar parameters

### Applications
- Maritime surveillance and monitoring
- Search and rescue operations
- Harbor security and traffic management
- Research and development of radar classification algorithms

The system demonstrates practical radar classification techniques and provides a solid foundation for maritime surveillance applications.# Interactive Prediction Function
def predict_classification(range_val, azimuth_val, elevation_val, doppler_val, 
                         bearing_val, rcs_val, snr_val):
    """Predict classification using both models for user input."""
    user_input = np.array([[range_val, azimuth_val, elevation_val, doppler_val, 
                           bearing_val, rcs_val, snr_val]])
    
    # Random Forest prediction
    rf_pred = rf_model.predict(user_input)[0]
    rf_prob = rf_model.predict_proba(user_input)[0]
    
    # LSTM prediction (replicate input for sequence)
    user_input_scaled = scaler.transform(user_input)
    lstm_input = np.tile(user_input_scaled, (seq_length, 1)).reshape(1, seq_length, -1)
    lstm_prob = lstm_model.predict(lstm_input, verbose=0)[0][0]
    lstm_pred = 1 if lstm_prob > 0.5 else 0
    
    print("\\n" + "="*50)
    print("RADAR CLASSIFICATION RESULTS")
    print("="*50)
    print(f"Input Parameters:")
    print(f"  Range: {range_val:,.0f} m")
    print(f"  Azimuth: {azimuth_val:.1f}°")
    print(f"  Elevation: {elevation_val:.1f}°")
    print(f"  Doppler: {doppler_val:.1f} m/s")
    print(f"  Bearing: {bearing_val:.1f}°")
    print(f"  RCS: {rcs_val:.1f} dBsm")
    print(f"  SNR: {snr_val:.1f} dB")
    print("\\nClassification Results:")
    print(f"  Random Forest: {'TRACK' if rf_pred == 1 else 'CLUTTER'} (confidence: {max(rf_prob):.2%})")
    print(f"  LSTM Neural Network: {'TRACK' if lstm_pred == 1 else 'CLUTTER'} (confidence: {lstm_prob if lstm_pred == 1 else 1-lstm_prob:.2%})")
    
    if rf_pred == lstm_pred:
        print(f"\\n✓ Both models agree: This appears to be a {'TRACK' if rf_pred == 1 else 'CLUTTER'}")
    else:
        print(f"\\n⚠ Models disagree - recommend further analysis")
    print("="*50)

# Create interactive widgets
range_widget = widgets.FloatSlider(value=15000, min=500, max=50000, step=500, description='Range (m):')
azimuth_widget = widgets.FloatSlider(value=180, min=0, max=360, step=1, description='Azimuth (°):')
elevation_widget = widgets.FloatSlider(value=2, min=-10, max=15, step=0.1, description='Elevation (°):')
doppler_widget = widgets.FloatSlider(value=10, min=-50, max=50, step=0.5, description='Doppler (m/s):')
bearing_widget = widgets.FloatSlider(value=0, min=0, max=360, step=1, description='Bearing (°):')
rcs_widget = widgets.FloatSlider(value=15, min=-20, max=30, step=0.5, description='RCS (dBsm):')
snr_widget = widgets.FloatSlider(value=20, min=-10, max=40, step=0.5, description='SNR (dB):')

print("Interactive Radar Classification System")
print("Adjust the parameters below to classify radar contacts:")

interact(predict_classification,
         range_val=range_widget, azimuth_val=azimuth_widget, elevation_val=elevation_widget,
         doppler_val=doppler_widget, bearing_val=bearing_widget, rcs_val=rcs_widget, snr_val=snr_widget);# Model Evaluation
def evaluate_model(model, X_test, y_test, model_name, is_lstm=False):
    """Evaluate a model and return comprehensive metrics."""
    if is_lstm:
        y_pred_proba = model.predict(X_test, verbose=0).flatten()
        y_pred = (y_pred_proba > 0.5).astype(int)
    else:
        y_pred = model.predict(X_test)
        y_pred_proba = model.predict_proba(X_test)[:, 1]
    
    accuracy = accuracy_score(y_test, y_pred)
    precision = precision_score(y_test, y_pred)
    recall = recall_score(y_test, y_pred)
    f1 = f1_score(y_test, y_pred)
    roc_auc = roc_auc_score(y_test, y_pred_proba)
    
    print(f"\\n{model_name} Performance:")
    print(f"Accuracy: {accuracy:.4f}")
    print(f"Precision: {precision:.4f}")
    print(f"Recall: {recall:.4f}")
    print(f"F1-Score: {f1:.4f}")
    print(f"ROC-AUC: {roc_auc:.4f}")
    
    # Confusion Matrix
    cm = confusion_matrix(y_test, y_pred)
    plt.figure(figsize=(8, 6))
    sns.heatmap(cm, annot=True, fmt='d', cmap='Blues', 
                xticklabels=['Clutter', 'Track'], yticklabels=['Clutter', 'Track'])
    plt.title(f'{model_name} Confusion Matrix')
    plt.ylabel('True Label')
    plt.xlabel('Predicted Label')
    plt.show()
    
    return {'accuracy': accuracy, 'precision': precision, 'recall': recall, 
            'f1': f1, 'roc_auc': roc_auc, 'y_pred': y_pred}

# Evaluate both models
rf_results = evaluate_model(rf_model, X_test, y_test, "Random Forest")
lstm_results = evaluate_model(lstm_model, X_test_lstm, y_test_lstm, "LSTM", is_lstm=True)

# Compare models
comparison_df = pd.DataFrame({
    'Metric': ['Accuracy', 'Precision', 'Recall', 'F1-Score', 'ROC-AUC'],
    'Random Forest': [rf_results['accuracy'], rf_results['precision'], 
                     rf_results['recall'], rf_results['f1'], rf_results['roc_auc']],
    'LSTM': [lstm_results['accuracy'], lstm_results['precision'], 
            lstm_results['recall'], lstm_results['f1'], lstm_results['roc_auc']]
})

print("\\nModel Comparison:")
print(comparison_df.round(4))## 3. Model Evaluation and Interactive Prediction# LSTM Model Training
def create_sequences(X, y, seq_length=10):
    """Create sequences for LSTM training."""
    sequences_X, sequences_y = [], []
    for i in range(len(X) - seq_length + 1):
        sequences_X.append(X[i:i+seq_length])
        sequences_y.append(y[i+seq_length-1])
    return np.array(sequences_X), np.array(sequences_y)

seq_length = 10
X_train_lstm, y_train_lstm = create_sequences(X_train_scaled, y_train, seq_length)
X_val_lstm, y_val_lstm = create_sequences(X_val_scaled, y_val, seq_length)
X_test_lstm, y_test_lstm = create_sequences(X_test_scaled, y_test, seq_length)

print(f"LSTM Training sequences: {X_train_lstm.shape}")
print(f"LSTM Validation sequences: {X_val_lstm.shape}")
print(f"LSTM Test sequences: {X_test_lstm.shape}")

# Build LSTM model
lstm_model = Sequential([
    LSTM(64, return_sequences=True, input_shape=(seq_length, len(feature_columns))),
    Dropout(0.2),
    LSTM(32, return_sequences=False),
    Dropout(0.2),
    Dense(16, activation='relu'),
    Dropout(0.2),
    Dense(1, activation='sigmoid')
])

lstm_model.compile(optimizer=Adam(learning_rate=0.001), loss='binary_crossentropy', metrics=['accuracy'])

print("\\nTraining LSTM model...")
history = lstm_model.fit(
    X_train_lstm, y_train_lstm,
    validation_data=(X_val_lstm, y_val_lstm),
    epochs=20,
    batch_size=32,
    verbose=1
)

# Plot training history
plt.figure(figsize=(12, 4))
plt.subplot(1, 2, 1)
plt.plot(history.history['loss'], label='Training Loss')
plt.plot(history.history['val_loss'], label='Validation Loss')
plt.title('Model Loss')
plt.xlabel('Epoch')
plt.ylabel('Loss')
plt.legend()

plt.subplot(1, 2, 2)
plt.plot(history.history['accuracy'], label='Training Accuracy')
plt.plot(history.history['val_accuracy'], label='Validation Accuracy')
plt.title('Model Accuracy')
plt.xlabel('Epoch')
plt.ylabel('Accuracy')
plt.legend()
plt.tight_layout()
plt.show()

print("LSTM training completed!")# Prepare features and labels
feature_columns = ['range', 'azimuth', 'elevation', 'doppler', 'bearing', 'RCS', 'SNR']
X = radar_data[feature_columns].values
y = (radar_data['label'] == 'track').astype(int)

# Split data
X_train, X_temp, y_train, y_temp = train_test_split(X, y, test_size=0.4, random_state=42, stratify=y)
X_val, X_test, y_val, y_test = train_test_split(X_temp, y_temp, test_size=0.5, random_state=42, stratify=y_temp)

print(f"Training set: {X_train.shape[0]} samples")
print(f"Validation set: {X_val.shape[0]} samples")  
print(f"Test set: {X_test.shape[0]} samples")

# Scale features
scaler = StandardScaler()
X_train_scaled = scaler.fit_transform(X_train)
X_val_scaled = scaler.transform(X_val)
X_test_scaled = scaler.transform(X_test)

# Train Random Forest
print("\\nTraining Random Forest...")
rf_model = RandomForestClassifier(n_estimators=100, max_depth=20, random_state=42, n_jobs=-1)
rf_model.fit(X_train, y_train)

# Feature importance
feature_importance = pd.DataFrame({
    'feature': feature_columns,
    'importance': rf_model.feature_importances_
}).sort_values('importance', ascending=False)

plt.figure(figsize=(10, 6))
sns.barplot(data=feature_importance, x='importance', y='feature')
plt.title('Random Forest Feature Importance')
plt.xlabel('Importance Score')
plt.show()

print("Random Forest training completed!")## 2. Machine Learning Models

We'll implement two classification models:
1. Random Forest (traditional ML approach)
2. LSTM-based RNN (deep learning for time series)def generate_radar_data(n_records=100000, n_tracks=25, n_clutter=50):
    """Generate realistic radar surveillance data with tracks and clutter."""
    data = []
    total_objects = n_tracks + n_clutter
    records_per_object = n_records // total_objects
    
    # Generate tracks (actual targets)
    for track_id in range(n_tracks):
        initial_range = np.random.uniform(1000, 50000)
        initial_azimuth = np.random.uniform(0, 360)
        initial_elevation = np.random.uniform(-5, 10)
        speed = np.random.uniform(5, 30)
        course = np.random.uniform(0, 360)
        base_rcs = np.random.uniform(5, 25)
        base_snr = np.random.uniform(15, 35)
        
        for i in range(records_per_object):
            timestamp = i
            dx = speed * np.cos(np.radians(course)) * i
            dy = speed * np.sin(np.radians(course)) * i
            x = initial_range * np.cos(np.radians(initial_azimuth)) + dx
            y = initial_range * np.sin(np.radians(initial_azimuth)) + dy
            current_range = np.sqrt(x**2 + y**2)
            current_azimuth = np.degrees(np.arctan2(y, x)) % 360
            
            # Add noise
            range_noise = np.random.normal(0, current_range * 0.001)
            azimuth_noise = np.random.normal(0, 0.1)
            elevation_noise = np.random.normal(0, 0.05)
            
            # Calculate doppler
            bearing_to_radar = np.radians(current_azimuth + 180)
            radial_velocity = speed * np.cos(np.radians(course) - bearing_to_radar)
            doppler = radial_velocity + np.random.normal(0, 0.5)
            
            rcs = base_rcs + np.random.normal(0, 2)
            snr = base_snr + np.random.normal(0, 3)
            
            data.append({
                'id': f'T{track_id:03d}',
                'range': current_range + range_noise,
                'azimuth': (current_azimuth + azimuth_noise) % 360,
                'elevation': initial_elevation + elevation_noise,
                'doppler': doppler,
                'bearing': (current_azimuth + 180) % 360,
                'RCS': rcs,
                'SNR': snr,
                'timestamp': timestamp,
                'label': 'track'
            })
    
    # Generate clutter sources
    for clutter_id in range(n_clutter):
        base_range = np.random.uniform(500, 30000)
        base_azimuth = np.random.uniform(0, 360)
        base_elevation = np.random.uniform(-2, 5)
        base_rcs = np.random.uniform(-10, 15)
        base_snr = np.random.uniform(0, 20)
        
        for i in range(records_per_object):
            timestamp = i
            range_variation = np.random.normal(0, base_range * 0.01)
            azimuth_variation = np.random.normal(0, 1)
            elevation_variation = np.random.normal(0, 0.2)
            doppler = np.random.normal(0, 2)
            rcs = base_rcs + np.random.normal(0, 5)
            snr = base_snr + np.random.normal(0, 5)
            
            data.append({
                'id': f'C{clutter_id:03d}',
                'range': base_range + range_variation,
                'azimuth': (base_azimuth + azimuth_variation) % 360,
                'elevation': base_elevation + elevation_variation,
                'doppler': doppler,
                'bearing': (base_azimuth + 180 + np.random.normal(0, 2)) % 360,
                'RCS': rcs,
                'SNR': snr,
                'timestamp': timestamp,
                'label': 'clutter'
            })
    
    df = pd.DataFrame(data)
    df = df.sort_values(['timestamp', 'id']).reset_index(drop=True)
    return df

# Generate the radar data
print("Generating radar data...")
radar_data = generate_radar_data(n_records=100000, n_tracks=25, n_clutter=50)
print(f"Generated {len(radar_data)} radar records")
print(f"Tracks: {len(radar_data[radar_data['label'] == 'track'])} records")
print(f"Clutter: {len(radar_data[radar_data['label'] == 'clutter'])} records")
radar_data.head(10)## 1. Data Generation

We'll generate realistic radar data with the following characteristics:
- 25 actual targets (tracks) with consistent movement patterns
- 50 sea clutter sources with random characteristics
- 100,000 total records with temporal continuity
- Features: id, range, azimuth, elevation, doppler, bearing, RCS, SNR, timestamp, label{
 "cells": [
  {
   "cell_type": "markdown",
   "metadata": {},
   "source": [
    "# Radar Surveillance Classification System\n",
    "\n",
    "This notebook implements a comprehensive radar surveillance classification system using machine learning to distinguish between actual targets (tracks) and sea clutter. The system combines traditional machine learning (Random Forest) with deep learning (LSTM-RNN) approaches.\n",
    "\n",
    "## Features\n",
    "- Realistic radar data generation with temporal continuity\n",
    "- Random Forest classifier for feature-based classification\n",
    "- LSTM-RNN model for time-series pattern recognition\n",
    "- Interactive prediction interface\n",
    "- Comprehensive model evaluation and comparison"
   ]
  },
  {
   "cell_type": "code",
   "execution_count": null,
   "metadata": {},
   "outputs": [],
   "source": [
    "# Install required packages\n",
    "!pip install numpy pandas matplotlib seaborn scikit-learn tensorflow plotly ipywidgets\n",
    "\n",
    "# Import libraries\n",
    "import numpy as np\n",
    "import pandas as pd\n",
    "import matplotlib.pyplot as plt\n",
    "import seaborn as sns\n",
    "from sklearn.model_selection import train_test_split\n",
    "from sklearn.ensemble import RandomForestClassifier\n",
    "from sklearn.preprocessing import StandardScaler\n",
    "from sklearn.metrics import accuracy_score, precision_score, recall_score, f1_score, roc_auc_score, confusion_matrix\n",
    "import tensorflow as tf\n",
    "from tensorflow.keras.models import Sequential\n",
    "from tensorflow.keras.layers import LSTM, Dense, Dropout\n",
    "from tensorflow.keras.optimizers import Adam\n",
    "from ipywidgets import interact, widgets\n",
    "import warnings\n",
    "warnings.filterwarnings('ignore')\n",
    "\n",
    "# Set random seeds for reproducibility\n",
    "np.random.seed(42)\n",
    "tf.random.set_seed(42)\n",
    "\n",
    "print(\"All packages imported successfully!\")"
   ]
  }
 ],
 "metadata": {
  "kernelspec": {
   "display_name": "Python 3",
   "language": "python",
   "name": "python3"
  },
  "language_info": {
   "codemirror_mode": {
    "name": "ipython",
    "version": 3
   },
   "file_extension": ".py",
   "mimetype": "text/x-python",
   "name": "python",
   "nbconvert_exporter": "python",
   "pygments_lexer": "ipython3",
   "version": "3.8.5"
  }
 },
 "nbformat": 4,
 "nbformat_minor": 4
}
